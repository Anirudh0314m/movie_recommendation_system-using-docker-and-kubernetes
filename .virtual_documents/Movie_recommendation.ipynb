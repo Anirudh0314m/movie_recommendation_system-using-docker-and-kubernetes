import numpy as np
import pandas as pd
import matplotlib.pyplot as plt
import os


movies = pd.read_csv("data/tmdb_5000_movies.csv")


credits = pd.read_csv("data/tmdb_5000_credits.csv")


credits.head()


movies.head()


movies.shape



credits.shape


movies = movies.merge(credits , on = 'title')


movies.head()


movies = movies[['movie_id','title','overview','genres','keywords','cast','crew']]


movies.shape


movies.isnull().sum()


 movies.dropna(inplace = True)


movies.iloc[0]['genres']


import ast

def convert(text):
    l = []
    for i in ast.literal_eval(text):
        l.append(i['name'])

    return l
    


movies['genres'].apply(convert)


movies['genres'] =  movies['genres'].apply(convert)


movies.head()


movies['keywords'] = movies['keywords'].apply(convert)


movies.head()


def convert_cast(text):
    l = []
    counter = 0
    for i in ast.literal_eval(text):
        if counter<3:
            l.append(i['name'])
        counter += 1

    return l


movies['cast'] = movies['cast'].apply(convert_cast)


movies.head()


def fetch_director(text):
    l = []
    for i in ast.literal_eval(text):
        if i['job'] == 'Director':
            l.append(i['name'])
            break

    return l
    


movies['crew'] = movies['crew'].apply(fetch_director)


movies.head()


movies['overview'] = movies['overview'].apply(lambda x:x.split())


movies.head()


def remove_space(word):
    l = []
    for i in word:
        l.append(i.replace(" ",""))
    return l


movies['cast']  = movies['cast'].apply(remove_space)
movies['crew']  = movies['crew'].apply(remove_space)
movies['keywords']  = movies['keywords'].apply(remove_space)
movies['genres']  = movies['genres'].apply(remove_space)


movies.head()


movies['tags'] = movies['overview'] + movies['genres'] + movies['keywords'] + movies['cast'] + movies['crew']


new_df = movies[['movie_id','title','tags']]


new_df['tags'] = new_df['tags'].apply(lambda x: " ".join(x))


new_df


import nltk
from nltk.stem import PorterStemmer
from sklearn.metrics.pairwise import cosine_similarity


ps = PorterStemmer()


def stems(text):
    l = []
    for i in text.split():
        l.append(ps.stem(i))
    return " ".join(l)


new_df['tags'] = new_df['tags'].apply(stems)


new_df.iloc[0]['tags']


from sklearn.feature_extraction.text import CountVectorizer
cv = CountVectorizer(max_features=5000,stop_words='english')


vector = cv.fit_transform(new_df['tags']).toarray()


similarity = cosine_similarity(vector)


def recommend(movie):
    index = new_df[new_df['title'] == movie].index[0]
    distances = sorted(list(enumerate(similarity[index])), reverse = True , key=lambda x: x[1])
    for i in distances[1:6]:
        print(new_df.iloc[i[0]].title + 'with accuracy of ' + str(round(i[1]*100,2)))


recommend('Spectre')


import pickle

pickle.dump(new_df, open('movie_list.pkl' , 'wb'))
pickle.dump(similarity, open('similarity.pkl', 'wb'))
            



